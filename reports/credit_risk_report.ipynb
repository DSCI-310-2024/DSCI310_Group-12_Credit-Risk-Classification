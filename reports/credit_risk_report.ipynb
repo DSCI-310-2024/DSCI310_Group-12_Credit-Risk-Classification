{
 "cells": [
  {
   "cell_type": "markdown",
   "id": "4cf3df8d-003d-40ea-a90c-ff27756bfac9",
   "metadata": {},
   "source": [
    "Predictive Modelling: German Credit Risk \n",
    "=========================================\n"
   ]
  },
  {
   "cell_type": "markdown",
   "id": "41e976dc-168b-4a33-8ba8-64393d0affba",
   "metadata": {},
   "source": [
    "## Summary"
   ]
  },
  {
   "cell_type": "markdown",
   "id": "5916609f-5b57-4dd6-bca2-451b9e18e453",
   "metadata": {},
   "source": [
    "The goal of our analysis is to classify whether someone is a good or bad credit risk using attributes such as `Credit History`, `Duration`, and `Residence`. Our best-performing model is a Random Forest model. This model gave us an accuracy of 0.8 on unseen data, a decent result compared to the dummy model's accuracy of 0.7. We also obtained a precision score of 0.8, a recall score of 0.95, and F1 Score of 0.87. Our model performs decently well in terms of identifying people who are a good credit risk. However, if this model is to have a hand in real-world decision-making, precision should be improved to minimize classifying poor credit risks as good credit risks (false positives). In addition, more research should be done to ensure the model produces fair and equitable recommendations."
   ]
  },
  {
   "cell_type": "markdown",
   "id": "bb409e3f-8d8a-4238-bab8-0e109c86d28b",
   "metadata": {},
   "source": [
    "## Introduction"
   ]
  },
  {
   "cell_type": "markdown",
   "id": "065da2dc-7945-49b7-ba4f-7c698b508f97",
   "metadata": {},
   "source": [
    "Understanding and predicting credit risk is crucial for banks in the finance sector. As the Journal of Applied Statistics shares “credit risk modelling, namely its component Probability of Default (PD), is very helpful in the consumer credit loan grant decision” (Costa e Silva et al., 2020). Further, a report by McKinsey shares that “at an average commercial bank, credit-related assets produce about 40 percent of total revenues” (Goraieb et al., n.d.). With this in mind, our data science project will develop a predictive model aimed at discerning good from bad credit risk. \n",
    "\n",
    "Our key question: How can we predict individuals with good or bad credit risk using relevant and representative input features?\n",
    "\n",
    "The Statlog (German Credit Data) dataset, sourced from UCI’s Machine Learning Repository, can be used for classifying individuals as good or bad credit risks based on a variety of attributes. A cost matrix is required for evaluation, where misclassification costs are outlined. The cost matrix indicates that it is worse to classify a customer as good when they are bad, compared to classifying a customer as bad when they are good. The dataset contains 1000 instances with 20 features. Each feature has a different role, type, and demographic information, summarized as follows:\n",
    "\n",
    "- Target Variable (Credit Risk): Binary, classifies individuals as either good (= 1) or bad (= 2) credit risks\n",
    "- Status of existing checking account (Attribute1): Categorical, indicates the status of the existing checking account in 4 categories, such as the balance amount or absence of a checking account.\n",
    "- Duration (Attribute2): Integer, represents the duration of credit in months.\n",
    "- Credit history (Attribute3): Categorical, describes the credit history of individuals in 3 categories, including whether credits were paid back duly or if there were payment delays.\n",
    "- Purpose (Attribute4): Categorical, specifies the purpose of the credit in 11 categories, like for a car purchase, furniture, education, or business, etc.\n",
    "- Credit amount (Attribute5): Integer, denotes the amount of credit requested.\n",
    "- Savings account/bonds (Attribute6): Categorical, indicates the status of savings accounts or bonds in categorical brackets of DEM currency.\n",
    "- Present employment since (Attribute7): Categorical, shows the duration of present employment.\n",
    "- Installment rate (Attribute8): Integer, represents the installment rate in terms of a percentage of disposable income.\n",
    "- Personal status and sex (Attribute9): Categorical, provides information about personal status and sex.\n",
    "- Other debtors/guarantors (Attribute10): Categorical, indicates the presence of other debtors or guarantors.\n",
    "- Present residence since (Attribute11): Integer, denotes the duration of present residence.\n",
    "- Property (Attribute12): Categorical, describes the type of property owned.\n",
    "- Age in years (Attribute13): Integer, represents the age of individuals.\n",
    "- Other installment plans (Attribute14): Categorical, specifies other installment plans held by individuals.\n",
    "- Housing (Attribute15): Categorical, indicates the housing status.\n",
    "- Number of existing credits at this bank (Attribute16): Integer, denotes the number of existing credits at this bank.\n",
    "- Job (Attribute17): Categorical, describes the job status of individuals.\n",
    "- Number of people being liable to provide maintenance for (Attribute18): Integer, represents the number of dependents.\n",
    "- Telephone (Attribute19): Categorical, indicates the presence of a telephone registered under the customer's name.\n",
    "- Foreign worker (Attribute20): Categorical, specifies whether the individual is a foreign worker."
   ]
  },
  {
   "cell_type": "markdown",
   "id": "3086a814-3e7a-41ef-b527-1c3c433a6b3c",
   "metadata": {},
   "source": [
    "## Analysis"
   ]
  },
  {
   "cell_type": "code",
   "execution_count": 2,
   "id": "75eb6d41-c520-4a82-ae0e-428b795ffd24",
   "metadata": {},
   "outputs": [
    {
     "data": {
      "text/html": [
       "<div>\n",
       "<style scoped>\n",
       "    .dataframe tbody tr th:only-of-type {\n",
       "        vertical-align: middle;\n",
       "    }\n",
       "\n",
       "    .dataframe tbody tr th {\n",
       "        vertical-align: top;\n",
       "    }\n",
       "\n",
       "    .dataframe thead th {\n",
       "        text-align: right;\n",
       "    }\n",
       "</style>\n",
       "<table border=\"1\" class=\"dataframe\">\n",
       "  <thead>\n",
       "    <tr style=\"text-align: right;\">\n",
       "      <th></th>\n",
       "      <th>Attribute1</th>\n",
       "      <th>Attribute2</th>\n",
       "      <th>Attribute3</th>\n",
       "      <th>Attribute4</th>\n",
       "      <th>Attribute5</th>\n",
       "      <th>Attribute6</th>\n",
       "      <th>Attribute7</th>\n",
       "      <th>Attribute8</th>\n",
       "      <th>Attribute9</th>\n",
       "      <th>Attribute10</th>\n",
       "      <th>...</th>\n",
       "      <th>Attribute12</th>\n",
       "      <th>Attribute13</th>\n",
       "      <th>Attribute14</th>\n",
       "      <th>Attribute15</th>\n",
       "      <th>Attribute16</th>\n",
       "      <th>Attribute17</th>\n",
       "      <th>Attribute18</th>\n",
       "      <th>Attribute19</th>\n",
       "      <th>Attribute20</th>\n",
       "      <th>class</th>\n",
       "    </tr>\n",
       "  </thead>\n",
       "  <tbody>\n",
       "    <tr>\n",
       "      <th>0</th>\n",
       "      <td>A11</td>\n",
       "      <td>6</td>\n",
       "      <td>A34</td>\n",
       "      <td>A43</td>\n",
       "      <td>1169</td>\n",
       "      <td>A65</td>\n",
       "      <td>A75</td>\n",
       "      <td>4</td>\n",
       "      <td>A93</td>\n",
       "      <td>A101</td>\n",
       "      <td>...</td>\n",
       "      <td>A121</td>\n",
       "      <td>67</td>\n",
       "      <td>A143</td>\n",
       "      <td>A152</td>\n",
       "      <td>2</td>\n",
       "      <td>A173</td>\n",
       "      <td>1</td>\n",
       "      <td>A192</td>\n",
       "      <td>A201</td>\n",
       "      <td>1</td>\n",
       "    </tr>\n",
       "    <tr>\n",
       "      <th>1</th>\n",
       "      <td>A12</td>\n",
       "      <td>48</td>\n",
       "      <td>A32</td>\n",
       "      <td>A43</td>\n",
       "      <td>5951</td>\n",
       "      <td>A61</td>\n",
       "      <td>A73</td>\n",
       "      <td>2</td>\n",
       "      <td>A92</td>\n",
       "      <td>A101</td>\n",
       "      <td>...</td>\n",
       "      <td>A121</td>\n",
       "      <td>22</td>\n",
       "      <td>A143</td>\n",
       "      <td>A152</td>\n",
       "      <td>1</td>\n",
       "      <td>A173</td>\n",
       "      <td>1</td>\n",
       "      <td>A191</td>\n",
       "      <td>A201</td>\n",
       "      <td>2</td>\n",
       "    </tr>\n",
       "    <tr>\n",
       "      <th>2</th>\n",
       "      <td>A14</td>\n",
       "      <td>12</td>\n",
       "      <td>A34</td>\n",
       "      <td>A46</td>\n",
       "      <td>2096</td>\n",
       "      <td>A61</td>\n",
       "      <td>A74</td>\n",
       "      <td>2</td>\n",
       "      <td>A93</td>\n",
       "      <td>A101</td>\n",
       "      <td>...</td>\n",
       "      <td>A121</td>\n",
       "      <td>49</td>\n",
       "      <td>A143</td>\n",
       "      <td>A152</td>\n",
       "      <td>1</td>\n",
       "      <td>A172</td>\n",
       "      <td>2</td>\n",
       "      <td>A191</td>\n",
       "      <td>A201</td>\n",
       "      <td>1</td>\n",
       "    </tr>\n",
       "    <tr>\n",
       "      <th>3</th>\n",
       "      <td>A11</td>\n",
       "      <td>42</td>\n",
       "      <td>A32</td>\n",
       "      <td>A42</td>\n",
       "      <td>7882</td>\n",
       "      <td>A61</td>\n",
       "      <td>A74</td>\n",
       "      <td>2</td>\n",
       "      <td>A93</td>\n",
       "      <td>A103</td>\n",
       "      <td>...</td>\n",
       "      <td>A122</td>\n",
       "      <td>45</td>\n",
       "      <td>A143</td>\n",
       "      <td>A153</td>\n",
       "      <td>1</td>\n",
       "      <td>A173</td>\n",
       "      <td>2</td>\n",
       "      <td>A191</td>\n",
       "      <td>A201</td>\n",
       "      <td>1</td>\n",
       "    </tr>\n",
       "    <tr>\n",
       "      <th>4</th>\n",
       "      <td>A11</td>\n",
       "      <td>24</td>\n",
       "      <td>A33</td>\n",
       "      <td>A40</td>\n",
       "      <td>4870</td>\n",
       "      <td>A61</td>\n",
       "      <td>A73</td>\n",
       "      <td>3</td>\n",
       "      <td>A93</td>\n",
       "      <td>A101</td>\n",
       "      <td>...</td>\n",
       "      <td>A124</td>\n",
       "      <td>53</td>\n",
       "      <td>A143</td>\n",
       "      <td>A153</td>\n",
       "      <td>2</td>\n",
       "      <td>A173</td>\n",
       "      <td>2</td>\n",
       "      <td>A191</td>\n",
       "      <td>A201</td>\n",
       "      <td>2</td>\n",
       "    </tr>\n",
       "  </tbody>\n",
       "</table>\n",
       "<p>5 rows × 21 columns</p>\n",
       "</div>"
      ],
      "text/plain": [
       "  Attribute1  Attribute2 Attribute3 Attribute4  Attribute5 Attribute6  \\\n",
       "0        A11           6        A34        A43        1169        A65   \n",
       "1        A12          48        A32        A43        5951        A61   \n",
       "2        A14          12        A34        A46        2096        A61   \n",
       "3        A11          42        A32        A42        7882        A61   \n",
       "4        A11          24        A33        A40        4870        A61   \n",
       "\n",
       "  Attribute7  Attribute8 Attribute9 Attribute10  ...  Attribute12 Attribute13  \\\n",
       "0        A75           4        A93        A101  ...         A121          67   \n",
       "1        A73           2        A92        A101  ...         A121          22   \n",
       "2        A74           2        A93        A101  ...         A121          49   \n",
       "3        A74           2        A93        A103  ...         A122          45   \n",
       "4        A73           3        A93        A101  ...         A124          53   \n",
       "\n",
       "   Attribute14 Attribute15 Attribute16  Attribute17 Attribute18  Attribute19  \\\n",
       "0         A143        A152           2         A173           1         A192   \n",
       "1         A143        A152           1         A173           1         A191   \n",
       "2         A143        A152           1         A172           2         A191   \n",
       "3         A143        A153           1         A173           2         A191   \n",
       "4         A143        A153           2         A173           2         A191   \n",
       "\n",
       "  Attribute20 class  \n",
       "0        A201     1  \n",
       "1        A201     2  \n",
       "2        A201     1  \n",
       "3        A201     1  \n",
       "4        A201     2  \n",
       "\n",
       "[5 rows x 21 columns]"
      ]
     },
     "execution_count": 2,
     "metadata": {},
     "output_type": "execute_result"
    }
   ],
   "source": [
    "# Load the dataset\n",
    "#### TODO: READ FROM CLEAN DATA FOLDER\n",
    "df = pd.read_csv(file_path)\n",
    "df.head()"
   ]
  },
  {
   "cell_type": "markdown",
   "id": "8812cb2d",
   "metadata": {},
   "source": [
    "> <center><b><i>Table 1: Original Dataset</i></b></center>\n"
   ]
  },
  {
   "cell_type": "markdown",
   "id": "65fb8627-9273-4ca6-8f31-6584cccff15d",
   "metadata": {},
   "source": [
    "The Dataset contains 21 columns of categorical and numerical data. The last column can be identified as the target variable."
   ]
  },
  {
   "cell_type": "code",
   "execution_count": 4,
   "id": "d07ae371-09cb-4bb2-b8ca-01d93c117019",
   "metadata": {},
   "outputs": [
    {
     "name": "stdout",
     "output_type": "stream",
     "text": [
      "<class 'pandas.core.frame.DataFrame'>\n",
      "RangeIndex: 1000 entries, 0 to 999\n",
      "Data columns (total 21 columns):\n",
      " #   Column            Non-Null Count  Dtype \n",
      "---  ------            --------------  ----- \n",
      " 0   Status            1000 non-null   object\n",
      " 1   Duration          1000 non-null   int64 \n",
      " 2   Credit history    1000 non-null   object\n",
      " 3   Purpose           1000 non-null   object\n",
      " 4   Credit amount     1000 non-null   int64 \n",
      " 5   Savings account   1000 non-null   object\n",
      " 6   Employement       1000 non-null   object\n",
      " 7   Rate              1000 non-null   int64 \n",
      " 8   Personal status   1000 non-null   object\n",
      " 9   Guarantors        1000 non-null   object\n",
      " 10  Residence         1000 non-null   int64 \n",
      " 11  Property          1000 non-null   object\n",
      " 12  Age               1000 non-null   int64 \n",
      " 13  Installment       1000 non-null   object\n",
      " 14  Housing           1000 non-null   object\n",
      " 15  Existing credits  1000 non-null   int64 \n",
      " 16  Job               1000 non-null   object\n",
      " 17  Liable people     1000 non-null   int64 \n",
      " 18  Telephone         1000 non-null   object\n",
      " 19  Foreign worker    1000 non-null   object\n",
      " 20  Credit risk       1000 non-null   int64 \n",
      "dtypes: int64(8), object(13)\n",
      "memory usage: 164.2+ KB\n"
     ]
    },
    {
     "data": {
      "text/plain": [
       "NoneType"
      ]
     },
     "execution_count": 4,
     "metadata": {},
     "output_type": "execute_result"
    }
   ],
   "source": [
    "type(df.info())"
   ]
  },
  {
   "cell_type": "markdown",
   "id": "90db24b6-b969-4a0a-af32-5370bdbf38ed",
   "metadata": {},
   "source": [
    "The data does not contain any null value there for no imputation is required."
   ]
  },
  {
   "cell_type": "code",
   "execution_count": 5,
   "id": "2d66ef1e-5d26-47f6-98e4-2efddd036734",
   "metadata": {},
   "outputs": [
    {
     "data": {
      "text/plain": [
       "{'Status': 4,\n",
       " 'Duration': 33,\n",
       " 'Credit history': 5,\n",
       " 'Purpose': 10,\n",
       " 'Credit amount': 921,\n",
       " 'Savings account': 5,\n",
       " 'Employement': 5,\n",
       " 'Rate': 4,\n",
       " 'Personal status': 4,\n",
       " 'Guarantors': 3,\n",
       " 'Residence': 4,\n",
       " 'Property': 4,\n",
       " 'Age': 53,\n",
       " 'Installment': 3,\n",
       " 'Housing': 3,\n",
       " 'Existing credits': 4,\n",
       " 'Job': 4,\n",
       " 'Liable people': 2,\n",
       " 'Telephone': 2,\n",
       " 'Foreign worker': 2,\n",
       " 'Credit risk': 2}"
      ]
     },
     "execution_count": 5,
     "metadata": {},
     "output_type": "execute_result"
    }
   ],
   "source": [
    "{column: df[column].nunique() for column in df.columns}"
   ]
  },
  {
   "cell_type": "code",
   "execution_count": 6,
   "id": "5b268b14-d1ad-464d-a687-c3878bb28bbe",
   "metadata": {},
   "outputs": [
    {
     "data": {
      "text/html": [
       "<div>\n",
       "<style scoped>\n",
       "    .dataframe tbody tr th:only-of-type {\n",
       "        vertical-align: middle;\n",
       "    }\n",
       "\n",
       "    .dataframe tbody tr th {\n",
       "        vertical-align: top;\n",
       "    }\n",
       "\n",
       "    .dataframe thead th {\n",
       "        text-align: right;\n",
       "    }\n",
       "</style>\n",
       "<table border=\"1\" class=\"dataframe\">\n",
       "  <thead>\n",
       "    <tr style=\"text-align: right;\">\n",
       "      <th></th>\n",
       "      <th>Duration</th>\n",
       "      <th>Credit amount</th>\n",
       "      <th>Rate</th>\n",
       "      <th>Residence</th>\n",
       "      <th>Age</th>\n",
       "      <th>Existing credits</th>\n",
       "      <th>Liable people</th>\n",
       "      <th>Credit risk</th>\n",
       "    </tr>\n",
       "  </thead>\n",
       "  <tbody>\n",
       "    <tr>\n",
       "      <th>count</th>\n",
       "      <td>1000.000000</td>\n",
       "      <td>1000.000000</td>\n",
       "      <td>1000.000000</td>\n",
       "      <td>1000.000000</td>\n",
       "      <td>1000.000000</td>\n",
       "      <td>1000.000000</td>\n",
       "      <td>1000.000000</td>\n",
       "      <td>1000.000000</td>\n",
       "    </tr>\n",
       "    <tr>\n",
       "      <th>mean</th>\n",
       "      <td>20.903000</td>\n",
       "      <td>3271.258000</td>\n",
       "      <td>2.973000</td>\n",
       "      <td>2.845000</td>\n",
       "      <td>35.546000</td>\n",
       "      <td>1.407000</td>\n",
       "      <td>1.155000</td>\n",
       "      <td>1.300000</td>\n",
       "    </tr>\n",
       "    <tr>\n",
       "      <th>std</th>\n",
       "      <td>12.058814</td>\n",
       "      <td>2822.736876</td>\n",
       "      <td>1.118715</td>\n",
       "      <td>1.103718</td>\n",
       "      <td>11.375469</td>\n",
       "      <td>0.577654</td>\n",
       "      <td>0.362086</td>\n",
       "      <td>0.458487</td>\n",
       "    </tr>\n",
       "    <tr>\n",
       "      <th>min</th>\n",
       "      <td>4.000000</td>\n",
       "      <td>250.000000</td>\n",
       "      <td>1.000000</td>\n",
       "      <td>1.000000</td>\n",
       "      <td>19.000000</td>\n",
       "      <td>1.000000</td>\n",
       "      <td>1.000000</td>\n",
       "      <td>1.000000</td>\n",
       "    </tr>\n",
       "    <tr>\n",
       "      <th>25%</th>\n",
       "      <td>12.000000</td>\n",
       "      <td>1365.500000</td>\n",
       "      <td>2.000000</td>\n",
       "      <td>2.000000</td>\n",
       "      <td>27.000000</td>\n",
       "      <td>1.000000</td>\n",
       "      <td>1.000000</td>\n",
       "      <td>1.000000</td>\n",
       "    </tr>\n",
       "    <tr>\n",
       "      <th>50%</th>\n",
       "      <td>18.000000</td>\n",
       "      <td>2319.500000</td>\n",
       "      <td>3.000000</td>\n",
       "      <td>3.000000</td>\n",
       "      <td>33.000000</td>\n",
       "      <td>1.000000</td>\n",
       "      <td>1.000000</td>\n",
       "      <td>1.000000</td>\n",
       "    </tr>\n",
       "    <tr>\n",
       "      <th>75%</th>\n",
       "      <td>24.000000</td>\n",
       "      <td>3972.250000</td>\n",
       "      <td>4.000000</td>\n",
       "      <td>4.000000</td>\n",
       "      <td>42.000000</td>\n",
       "      <td>2.000000</td>\n",
       "      <td>1.000000</td>\n",
       "      <td>2.000000</td>\n",
       "    </tr>\n",
       "    <tr>\n",
       "      <th>max</th>\n",
       "      <td>72.000000</td>\n",
       "      <td>18424.000000</td>\n",
       "      <td>4.000000</td>\n",
       "      <td>4.000000</td>\n",
       "      <td>75.000000</td>\n",
       "      <td>4.000000</td>\n",
       "      <td>2.000000</td>\n",
       "      <td>2.000000</td>\n",
       "    </tr>\n",
       "  </tbody>\n",
       "</table>\n",
       "</div>"
      ],
      "text/plain": [
       "          Duration  Credit amount         Rate    Residence          Age  \\\n",
       "count  1000.000000    1000.000000  1000.000000  1000.000000  1000.000000   \n",
       "mean     20.903000    3271.258000     2.973000     2.845000    35.546000   \n",
       "std      12.058814    2822.736876     1.118715     1.103718    11.375469   \n",
       "min       4.000000     250.000000     1.000000     1.000000    19.000000   \n",
       "25%      12.000000    1365.500000     2.000000     2.000000    27.000000   \n",
       "50%      18.000000    2319.500000     3.000000     3.000000    33.000000   \n",
       "75%      24.000000    3972.250000     4.000000     4.000000    42.000000   \n",
       "max      72.000000   18424.000000     4.000000     4.000000    75.000000   \n",
       "\n",
       "       Existing credits  Liable people  Credit risk  \n",
       "count       1000.000000    1000.000000  1000.000000  \n",
       "mean           1.407000       1.155000     1.300000  \n",
       "std            0.577654       0.362086     0.458487  \n",
       "min            1.000000       1.000000     1.000000  \n",
       "25%            1.000000       1.000000     1.000000  \n",
       "50%            1.000000       1.000000     1.000000  \n",
       "75%            2.000000       1.000000     2.000000  \n",
       "max            4.000000       2.000000     2.000000  "
      ]
     },
     "execution_count": 6,
     "metadata": {},
     "output_type": "execute_result"
    }
   ],
   "source": [
    "df.describe()"
   ]
  },
  {
   "cell_type": "markdown",
   "id": "e1fa9f1d",
   "metadata": {},
   "source": [
    "> <center><b><i>Table 3: Descriptive statistics of the data</i></b></center>\n"
   ]
  },
  {
   "cell_type": "markdown",
   "id": "e482ab2c-192b-4883-96cd-8be6006f11a0",
   "metadata": {},
   "source": [
    "The numerical data will then be inspected to check is scaling is required."
   ]
  },
  {
   "cell_type": "code",
   "execution_count": 1,
   "id": "f7981f3e-bce9-44cb-8c44-98d80c679ae6",
   "metadata": {},
   "outputs": [],
   "source": [
    "# Histograms for numerical columns\n",
    "#### TODO: READ 8 HISTOGRAMS FROM FIG FOLDER"
   ]
  },
  {
   "cell_type": "markdown",
   "id": "8fab7c8b",
   "metadata": {},
   "source": [
    "> <center><b><i>Figure 1: Histograms of categorical columns</i></b></center>"
   ]
  },
  {
   "cell_type": "code",
   "execution_count": 2,
   "id": "fdde1c6d-3431-40d3-b6c3-465bdc97e31a",
   "metadata": {},
   "outputs": [],
   "source": [
    "# Correlation heatmap for numerical columns\n",
    "#### TODO: READ HEATMAP FROM FIG FOLDER"
   ]
  },
  {
   "cell_type": "markdown",
   "id": "b4dee89e",
   "metadata": {},
   "source": [
    "> <center><b><i>Figure 2: Correlation heatmap of numerical columns</i></b></center>"
   ]
  },
  {
   "cell_type": "markdown",
   "id": "03093146-6708-4f63-9440-036caf36a977",
   "metadata": {},
   "source": [
    "The correlation does not display any high correlation between two given variables so no manipulation is required. Thus, the data can be scaled and fit prepared for the model. Column transformer will be used to scale the numerical data as well using one hot encoder for the cateogrical data."
   ]
  },
  {
   "cell_type": "markdown",
   "id": "5fc64a5c-33fa-4fd3-b436-6e944aeb8b6d",
   "metadata": {},
   "source": [
    "### Modeling"
   ]
  },
  {
   "cell_type": "markdown",
   "id": "684ab0fd-e5a8-4050-97e6-179135c81b02",
   "metadata": {},
   "source": [
    "The data will be split into a training and testing set where the Credit Risk will be set as the target variable for the supervised model"
   ]
  },
  {
   "cell_type": "code",
   "execution_count": 13,
   "id": "4e4afb75-7058-4cdb-8cc6-f65a0771857c",
   "metadata": {},
   "outputs": [
    {
     "data": {
      "text/plain": [
       "(((800, 64), (200, 64)), ((800,), (200,)))"
      ]
     },
     "execution_count": 13,
     "metadata": {},
     "output_type": "execute_result"
    }
   ],
   "source": [
    "# Applying the preprocessing\n",
    "### TODO: READ IN TRAINING AND TESTING DATA FROM DATA FOLDER\n",
    "\n",
    "# Checking the shape of the splits\n",
    "(X_train.shape, X_test.shape), (y_train.shape, y_test.shape)"
   ]
  },
  {
   "cell_type": "markdown",
   "id": "fcc0120d-8ace-451d-a938-8cc51fca59df",
   "metadata": {},
   "source": [
    "### Dummy Classifier"
   ]
  },
  {
   "cell_type": "markdown",
   "id": "865e3101-ccfa-412b-bd25-4e5a3550daa1",
   "metadata": {},
   "source": [
    "Lets first try the `Dummy Classifier`"
   ]
  },
  {
   "cell_type": "markdown",
   "id": "38bbd7a4-da66-483c-bcd2-bc6165159dd7",
   "metadata": {},
   "source": [
    "Model Result:"
   ]
  },
  {
   "cell_type": "markdown",
   "id": "cb102168-06df-4103-bd28-4c380ac87a8d",
   "metadata": {},
   "source": [
    "This DummyClassifier scores act as our baseline model to test model performance. "
   ]
  },
  {
   "cell_type": "markdown",
   "id": "0d80d6db-8d11-4b36-ac67-ba370fc0cb2a",
   "metadata": {},
   "source": [
    "Now we will different models."
   ]
  },
  {
   "cell_type": "markdown",
   "id": "4db102b5-4380-4b31-a39f-3208e52f0050",
   "metadata": {},
   "source": [
    "### Logistic Regression"
   ]
  },
  {
   "cell_type": "markdown",
   "id": "06239ac8-7913-4189-93e0-a89272ebde0a",
   "metadata": {},
   "source": [
    "Logistic regression seems to be doing better than dummy classifier. But note that there is a lot of variation in the scores."
   ]
  },
  {
   "cell_type": "code",
   "execution_count": 3,
   "id": "b47b092f-b7ae-4504-8edd-1653e7cea48f",
   "metadata": {},
   "outputs": [],
   "source": [
    "# Hyperparameter optimization\n",
    "\n",
    "### TODO: READ IN HYPERPARAMETER OPTIMIZATION TABLE FROM DATA FOLDER"
   ]
  },
  {
   "cell_type": "markdown",
   "id": "4bd27660",
   "metadata": {},
   "source": [
    "> <center><b><i>Table 8: Cross-Validation results for Logistic Regression with varying regularization strengths</i></b></center>"
   ]
  },
  {
   "cell_type": "markdown",
   "id": "6190412c-6718-428f-9477-902d1d541d61",
   "metadata": {},
   "source": [
    "The optimal C values is ???"
   ]
  },
  {
   "cell_type": "markdown",
   "id": "d68ea566-4870-4d97-a638-c59d4b3fbe2c",
   "metadata": {},
   "source": [
    "After hyperparameter optimization the test_scores have increased indicating better model performance."
   ]
  },
  {
   "cell_type": "markdown",
   "id": "bdd1dcb3-2c99-4032-baa8-2a322ef7c5c2",
   "metadata": {},
   "source": [
    "#### Fitting the model\n",
    "\n",
    "Since the hyperparameter optimization is done, now lets fit the model to our training data"
   ]
  },
  {
   "cell_type": "markdown",
   "id": "79674ec1-aa72-4645-a505-2d1b7baebe1a",
   "metadata": {},
   "source": [
    "#### Accessing learned parameters"
   ]
  },
  {
   "cell_type": "code",
   "execution_count": 22,
   "id": "35143dec-92da-411c-84c2-3a703d0257ff",
   "metadata": {},
   "outputs": [
    {
     "data": {
      "text/html": [
       "<div>\n",
       "<style scoped>\n",
       "    .dataframe tbody tr th:only-of-type {\n",
       "        vertical-align: middle;\n",
       "    }\n",
       "\n",
       "    .dataframe tbody tr th {\n",
       "        vertical-align: top;\n",
       "    }\n",
       "\n",
       "    .dataframe thead th {\n",
       "        text-align: right;\n",
       "    }\n",
       "</style>\n",
       "<table border=\"1\" class=\"dataframe\">\n",
       "  <thead>\n",
       "    <tr style=\"text-align: right;\">\n",
       "      <th></th>\n",
       "      <th>columns</th>\n",
       "      <th>coefs</th>\n",
       "    </tr>\n",
       "  </thead>\n",
       "  <tbody>\n",
       "    <tr>\n",
       "      <th>9</th>\n",
       "      <td>Status_A14</td>\n",
       "      <td>-0.699637</td>\n",
       "    </tr>\n",
       "    <tr>\n",
       "      <th>14</th>\n",
       "      <td>Credit history_A34</td>\n",
       "      <td>-0.527882</td>\n",
       "    </tr>\n",
       "    <tr>\n",
       "      <th>16</th>\n",
       "      <td>Purpose_A41</td>\n",
       "      <td>-0.455999</td>\n",
       "    </tr>\n",
       "    <tr>\n",
       "      <th>37</th>\n",
       "      <td>Personal status_A93</td>\n",
       "      <td>-0.329487</td>\n",
       "    </tr>\n",
       "    <tr>\n",
       "      <th>52</th>\n",
       "      <td>Installment_A143</td>\n",
       "      <td>-0.298676</td>\n",
       "    </tr>\n",
       "    <tr>\n",
       "      <th>...</th>\n",
       "      <td>...</td>\n",
       "      <td>...</td>\n",
       "    </tr>\n",
       "    <tr>\n",
       "      <th>25</th>\n",
       "      <td>Savings account_A61</td>\n",
       "      <td>0.316278</td>\n",
       "    </tr>\n",
       "    <tr>\n",
       "      <th>10</th>\n",
       "      <td>Credit history_A30</td>\n",
       "      <td>0.342290</td>\n",
       "    </tr>\n",
       "    <tr>\n",
       "      <th>22</th>\n",
       "      <td>Purpose_A46</td>\n",
       "      <td>0.348201</td>\n",
       "    </tr>\n",
       "    <tr>\n",
       "      <th>15</th>\n",
       "      <td>Purpose_A40</td>\n",
       "      <td>0.444547</td>\n",
       "    </tr>\n",
       "    <tr>\n",
       "      <th>6</th>\n",
       "      <td>Status_A11</td>\n",
       "      <td>0.586321</td>\n",
       "    </tr>\n",
       "  </tbody>\n",
       "</table>\n",
       "<p>64 rows × 2 columns</p>\n",
       "</div>"
      ],
      "text/plain": [
       "                columns     coefs\n",
       "9            Status_A14 -0.699637\n",
       "14   Credit history_A34 -0.527882\n",
       "16          Purpose_A41 -0.455999\n",
       "37  Personal status_A93 -0.329487\n",
       "52     Installment_A143 -0.298676\n",
       "..                  ...       ...\n",
       "25  Savings account_A61  0.316278\n",
       "10   Credit history_A30  0.342290\n",
       "22          Purpose_A46  0.348201\n",
       "15          Purpose_A40  0.444547\n",
       "6            Status_A11  0.586321\n",
       "\n",
       "[64 rows x 2 columns]"
      ]
     },
     "execution_count": 22,
     "metadata": {},
     "output_type": "execute_result"
    }
   ],
   "source": [
    "#Accessing the coefficients of the variables. \n",
    "#### TODO: READ IN LEARNED PARAMETERS FROM DATA FOLDER"
   ]
  },
  {
   "cell_type": "markdown",
   "id": "0d0e52fb",
   "metadata": {},
   "source": [
    "> <center><b><i>Table 10: Learned Parameters</i></b></center>"
   ]
  },
  {
   "cell_type": "markdown",
   "id": "c9d18f5b-34a7-4a6e-86a5-98b9759fd129",
   "metadata": {},
   "source": [
    "- The table displays coefficients assigned to various features by the logistic regression model.\n",
    "- Negative coefficients (e.g., Status_A14, Credit history_A34) indicate a negative impact on the target variable (better credit risk), while positive coefficients (e.g., Purpose_A40, Status_A11) indicate a positive impact (poorer credit risk).\n",
    "- The magnitude of the coefficients reflects the strength of the relationship between each feature and the target variable, with larger absolute values suggesting a more significant influence on the model's predictions."
   ]
  },
  {
   "cell_type": "markdown",
   "id": "1f9feac0-224d-4fe5-a1ea-82a56fb1f750",
   "metadata": {},
   "source": [
    "#### ROC Plot"
   ]
  },
  {
   "cell_type": "code",
   "execution_count": 4,
   "id": "c1960785-14dc-43ed-a51d-ef882eb01e08",
   "metadata": {},
   "outputs": [],
   "source": [
    "### TODO: READ IN ROC PLOT FROM IMG FOLDER"
   ]
  },
  {
   "cell_type": "markdown",
   "id": "30f1ef8c",
   "metadata": {},
   "source": [
    "> <center><b><i>Figure 3: ROC Curve</i></b></center>"
   ]
  },
  {
   "cell_type": "markdown",
   "id": "ec9384f2-c3b2-47f1-bf28-52e7b4068976",
   "metadata": {},
   "source": [
    "The above graph is a plot of our true positive rate/recall against false positive rate. For our case, a False Positive is when we predict someone to be a bad credit risk, when in reality they are a good credit risk. Therefore, we want to minimize False Positives while still maintaing a decent recall rate. The default predict-proba threshhold of 0.5 is our choice for balancing these two goals as it keeps the False Positive Rate quite low."
   ]
  },
  {
   "cell_type": "markdown",
   "id": "50058925-f917-443c-9578-79e5cf4bbf95",
   "metadata": {},
   "source": [
    "Model Performances: "
   ]
  },
  {
   "cell_type": "markdown",
   "id": "030540ab",
   "metadata": {},
   "source": [
    "\n",
    "> <center><b><i>Table 11: Comparison of Model Performances: Dummy vs. Logistic Regression</i></b></center>"
   ]
  },
  {
   "cell_type": "markdown",
   "id": "3be3fbe0-9b05-43fc-a113-79eb0ac3962b",
   "metadata": {},
   "source": [
    "### Random Forest Model"
   ]
  },
  {
   "cell_type": "markdown",
   "id": "1ef1ffa1-d76c-4684-8ec4-de2d4f9a8879",
   "metadata": {},
   "source": [
    "Now create and fit the model with the best hyperparameters we got"
   ]
  },
  {
   "cell_type": "markdown",
   "id": "a1c354f9-c0be-44cf-8a1d-2388ead03325",
   "metadata": {},
   "source": [
    "Lets fit the data on the train set"
   ]
  },
  {
   "cell_type": "markdown",
   "id": "a26bb5ba-9ff7-4367-b591-40abfe2bbae6",
   "metadata": {},
   "source": [
    "#### Visualizing the tree\n",
    "\n",
    "We can look at different trees created by random forest."
   ]
  },
  {
   "cell_type": "code",
   "execution_count": 5,
   "id": "d6ac31e6-8c60-4174-9599-03aa8b0a3bab",
   "metadata": {},
   "outputs": [],
   "source": [
    "#### TODO: READ IN 3 TREE FIGS FROM IMG FOLDER"
   ]
  },
  {
   "cell_type": "markdown",
   "id": "25785b66-f8de-45c6-9954-0258a968b716",
   "metadata": {},
   "source": [
    "> <center><b><i>Figure 4: Visualization of Random Forest Tree</i></b></center>\n"
   ]
  },
  {
   "cell_type": "markdown",
   "id": "4add9d1b-c804-4896-8c2f-e3dd768f9757",
   "metadata": {},
   "source": [
    "### Model Performances"
   ]
  },
  {
   "cell_type": "code",
   "execution_count": 34,
   "id": "303c73d2-bb23-4372-af87-03d0bdde4cd8",
   "metadata": {},
   "outputs": [
    {
     "data": {
      "text/html": [
       "<div>\n",
       "<style scoped>\n",
       "    .dataframe tbody tr th:only-of-type {\n",
       "        vertical-align: middle;\n",
       "    }\n",
       "\n",
       "    .dataframe tbody tr th {\n",
       "        vertical-align: top;\n",
       "    }\n",
       "\n",
       "    .dataframe thead th {\n",
       "        text-align: right;\n",
       "    }\n",
       "</style>\n",
       "<table border=\"1\" class=\"dataframe\">\n",
       "  <thead>\n",
       "    <tr style=\"text-align: right;\">\n",
       "      <th></th>\n",
       "      <th>fit_time</th>\n",
       "      <th>score_time</th>\n",
       "      <th>test_score</th>\n",
       "      <th>train_score</th>\n",
       "    </tr>\n",
       "  </thead>\n",
       "  <tbody>\n",
       "    <tr>\n",
       "      <th>Dummy</th>\n",
       "      <td>0.001127</td>\n",
       "      <td>0.001925</td>\n",
       "      <td>0.69875</td>\n",
       "      <td>0.698750</td>\n",
       "    </tr>\n",
       "    <tr>\n",
       "      <th>Logistic Regression</th>\n",
       "      <td>0.015703</td>\n",
       "      <td>0.000563</td>\n",
       "      <td>0.74250</td>\n",
       "      <td>0.783125</td>\n",
       "    </tr>\n",
       "    <tr>\n",
       "      <th>Random Forest</th>\n",
       "      <td>0.079874</td>\n",
       "      <td>0.012885</td>\n",
       "      <td>0.75625</td>\n",
       "      <td>1.000000</td>\n",
       "    </tr>\n",
       "  </tbody>\n",
       "</table>\n",
       "</div>"
      ],
      "text/plain": [
       "                     fit_time  score_time  test_score  train_score\n",
       "Dummy                0.001127    0.001925     0.69875     0.698750\n",
       "Logistic Regression  0.015703    0.000563     0.74250     0.783125\n",
       "Random Forest        0.079874    0.012885     0.75625     1.000000"
      ]
     },
     "execution_count": 34,
     "metadata": {},
     "output_type": "execute_result"
    }
   ],
   "source": [
    "#Assessing model performance of different models\n",
    "### TODO: READ IN CROSS VALIDATION SCORES FROM DATA FOLDER"
   ]
  },
  {
   "cell_type": "markdown",
   "id": "3b4831b2-c8ff-458d-82c2-bcc1bd7e1a0f",
   "metadata": {},
   "source": [
    "> <center><b><i>Table 15: Summary of each model perfomance (Cross-Validation) </i></b></center>"
   ]
  },
  {
   "cell_type": "code",
   "execution_count": 6,
   "id": "48879fb8-b71a-41be-95ed-163f4b39c97b",
   "metadata": {},
   "outputs": [],
   "source": [
    "#### READ IN TEST SCORES FROM DATA FOLDER"
   ]
  },
  {
   "cell_type": "markdown",
   "id": "d72413bf-180f-418d-a8db-64a3b2086436",
   "metadata": {},
   "source": [
    "> <center><b><i>Table 16: Summary of each model perfomance (Test Scores) </i></b></center>"
   ]
  },
  {
   "cell_type": "markdown",
   "id": "838f6a99-f4a9-42f3-89bb-a1c63110256f",
   "metadata": {},
   "source": [
    "**Logistic Regression**\n",
    "- **Accuracy (0.79)**: Around 79% of instances are classified correctly by the model.\n",
    "- **Precision (0.81)**: When the model predicts a positive outcome, it's correct approximately 81% of the time.\n",
    "- **Recall (0.91)**: The model can correctly identify about 91% of all actual positive instances.\n",
    "- **F1 Score (0.86)**: Represents a balance between precision and recall, with higher values indicating good overall performance.\n",
    "\n",
    "The model demonstrates good performance, with high accuracy, precision, recall, and F1 score, indicating it effectively classifies instances, makes few false positives, captures most positives, and maintains a balanced precision-recall trade-off."
   ]
  },
  {
   "cell_type": "markdown",
   "id": "c7ed1e45-d1b2-454c-858f-d1c8c1ec22e0",
   "metadata": {},
   "source": [
    "**Random Forest**\n",
    "- **Accuracy (0.8)**: The proportion of correctly classified instances out of the total instances in the test set.\n",
    "- **Precision (0.802)**: The ratio of correctly predicted positive observations to the total predicted positives. It indicates the model's ability to correctly identify positive instances.\n",
    "- **Recall (0.950)**: The ratio of correctly predicted positive observations to all actual positives. It shows the model's ability to capture all positive instances.\n",
    "- **F1 Score (0.870)**: The harmonic mean of precision and recall. It provides a balance between precision and recall, especially useful when dealing with imbalanced classes.\n",
    "\n",
    "Overall, these metrics suggest that the Random Forest classifier performs well on the test set, with relatively high accuracy, precision, recall, and F1 score. It correctly classifies a majority of instances while maintaining a good balance between false positives and false negatives."
   ]
  },
  {
   "cell_type": "markdown",
   "id": "cc019141-9023-4778-9295-e94c4a9d4628",
   "metadata": {},
   "source": [
    "**Overall**"
   ]
  },
  {
   "cell_type": "markdown",
   "id": "86883e16-2185-4169-9987-ec0045dfb9a7",
   "metadata": {},
   "source": [
    "Both the models are performing better than our baseline model.\n",
    "- **Logistic Regression**: It has moderate training and prediction times and achieves a decent accuracy on the test set, indicating reasonable performance without overfitting.\n",
    "- **Random Forest**: It takes significantly longer to train compared to logistic regression but achieves a slightly higher accuracy on the test set. However, there's a large discrepancy between the training and test scores, suggesting potential overfitting."
   ]
  },
  {
   "cell_type": "markdown",
   "id": "820175a4-511a-408b-b2db-dfa54aeaa0c3",
   "metadata": {},
   "source": [
    "## Discussion"
   ]
  },
  {
   "cell_type": "markdown",
   "id": "36f6b377-0de5-4b96-9568-8c17156ba162",
   "metadata": {},
   "source": [
    "Our aim is to classify whether someone is a good or bad credit risk. First we used the dummy classifier which produced an accuracy of about 0.7 and we used this as a benchmark. We then employed logistic regression to improve on the dummy model's performance. The accuracy improved from 0.7 to 0.79. Three variables that strongly pushed the prediction in the positive direction (bad credit) are Status_A11 (< 0 Deutsche mark), Purpose_A40 (purpose is new car), and Purpose_A46 (purpose is education). Three variables that strongly pushed the prediction in the negative direction (good credit) are Status_A14 (no checking account), Credit history_A34 (other credits existing (not at this bank)), and Purpose_A41 (purpose is used car). Finally, we used a Random Forest model which improved on accuracy, recall, and F1-score compared to the Logistic Regression model. Both models had a decent precision value of around 0.8 which is important as business often want to avoid identifying people as good creditors when that is not the case. We would recommend using the Random Forest model due to its improved F1-score and accuracy.\n",
    "\n",
    "It is unsurprising that we were able to improve on the Dummy classifier with logistic regression and random forest models as data such as credit status, purpose, and history seems fairly informative and somewhat linearly related to one's credit risk. It is also unsurprising that having negative DM (German currency) would indicate a bad credit risk. One surprise is that our model seems to think having no checking account is an indicator of a good credit risk- this is not very intuitive.\n",
    "\n",
    "This model could potentially be used by banks to determine who they should loan money to since analyzing credit risks is important to banks (Dobby & Vossos, 2024). Even though there are potential benefits to using this logistic regression model, we should keep in mind negative impacts it could have. Using a model such as the one we created could result in un-intentional discrimination. For example, `Age` is an attribute in our data. Our model has the coefficient -0.21 for Age indicating a larger age value will have a better credit prediction, holding other variables constant. If our model was used to determine who should get a bank loan, there would be risk of age discrimination which is unethical and illegal (Personal Characteristics, Grounds of Discrimination Protected in the BC Human Rights Code - BC Human Rights Tribunal, 2023)\n",
    ". \n",
    "\n",
    "While we only explored a linear regression model and random forest model, it would be interesting to see if gradient-boosted classifiers have improved accuracy and precision. If we used more complex classifiers such as lightLGBM, we would benefit from using SHAP graphs to understand how the model is making predictions generally, and on an individual basis. In addition, research could be done on how to prevent our model from discriminating based on age, gender, etc. as sometimes simply removing attributes does not lessen discrimination."
   ]
  },
  {
   "cell_type": "markdown",
   "id": "e6063a63-2cd4-406e-8caa-b72cf15d92fa",
   "metadata": {},
   "source": [
    "## References"
   ]
  },
  {
   "cell_type": "markdown",
   "id": "2a40ded5-0eeb-4783-a789-273d0fadd1cb",
   "metadata": {},
   "source": [
    "Costa e Silva, E., Lopes, I. C., Correia, A., & Faria, S. (2020). A logistic regression model for consumer default risk. Journal of Applied Statistics, 47(13-15), 2879–2894. https://doi.org/10.1080/02664763.2020.1759030\n",
    "\n",
    "Dobby, C., & Vossos, T. (2024, February 22). Wall Street to Follow Canada’s Hot Risk Transfer Trade. Bloomberg.com. https://www.bloomberg.com/news/articles/2024-02-22/wall-street-to-follow-canada-s-hot-capital-relief-trade\n",
    "\n",
    "Goraieb, E., Kumar, S., & Pepanides, T. (n.d.). Credit Risk | Risk & Resilience | McKinsey & Company. Www.mckinsey.com. https://www.mckinsey.com/capabilities/risk-and-resilience/how-we-help-clients/credit-risk\n",
    "\n",
    "Personal characteristics, grounds of discrimination protected in the BC Human Rights Code - BC Human Rights Tribunal. (2023, May 9). BC Human Rights Tribunal. https://www.bchrt.bc.ca/human-rights-duties/personal-characteritics/\n"
   ]
  }
 ],
 "metadata": {
  "kernelspec": {
   "display_name": "dsci3102",
   "language": "python",
   "name": "dsci3102"
  },
  "language_info": {
   "codemirror_mode": {
    "name": "ipython",
    "version": 3
   },
   "file_extension": ".py",
   "mimetype": "text/x-python",
   "name": "python",
   "nbconvert_exporter": "python",
   "pygments_lexer": "ipython3",
   "version": "3.11.6"
  }
 },
 "nbformat": 4,
 "nbformat_minor": 5
}
